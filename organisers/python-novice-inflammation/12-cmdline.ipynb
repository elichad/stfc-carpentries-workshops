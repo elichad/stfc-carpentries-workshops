{
 "cells": [
  {
   "cell_type": "markdown",
   "metadata": {},
   "source": [
    "# Command-Line Programs"
   ]
  },
  {
   "cell_type": "markdown",
   "metadata": {},
   "source": [
    "## Overview"
   ]
  },
  {
   "cell_type": "markdown",
   "metadata": {},
   "source": [
    "### Questions"
   ]
  },
  {
   "cell_type": "markdown",
   "metadata": {},
   "source": [
    "- How can I write Python programs that will work like Unix command-line tools?"
   ]
  },
  {
   "cell_type": "markdown",
   "metadata": {},
   "source": [
    "### Objectives"
   ]
  },
  {
   "cell_type": "markdown",
   "metadata": {},
   "source": [
    "- Use the values of command-line arguments in a program.\n",
    "- Handle flags and files separately in a command-line program.\n",
    "- Read data from standard input in a program so that it can be used in a pipeline."
   ]
  },
  {
   "cell_type": "markdown",
   "metadata": {},
   "source": [
    "## Content"
   ]
  },
  {
   "cell_type": "markdown",
   "metadata": {},
   "source": [
    "In this lesson we are switching from typing commands in a Python interpreter to typing commands in a shell terminal window (such as bash). When you see a `$` in front of a command that tells you to run that command in the shell rather than the Python interpreter.\n",
    "\n",
    "We may want a program that reads a dataset and prints the average inflammation per patient. `readings_04.py` does exactly that: it prints the average inflammation per patient for a given file.\n",
    "\n",
    "Our scripts should do the following:\n",
    "1. If no filename is given on the command line, read data from standard input.\n",
    "2. If one or more filenames are given, read data from them and report statistics for each file separately.\n",
    "3. Use the `--min`, `--mean`, or `--max` flag to determine what statistic to print."
   ]
  },
  {
   "cell_type": "markdown",
   "metadata": {},
   "source": [
    "### Command-line arguments"
   ]
  },
  {
   "cell_type": "markdown",
   "metadata": {},
   "source": [
    "We will create and save a text file that imports a library called `sys`, which is short for “system”. It defines values such as `sys.version`, which describes which version of Python we are running."
   ]
  },
  {
   "cell_type": "markdown",
   "metadata": {},
   "source": [
    "\n",
    "Whenever Python runs a program, it takes all of the values given on the command line and puts them in the list `sys.argv` so that the program can determine what they were."
   ]
  },
  {
   "cell_type": "markdown",
   "metadata": {},
   "source": [
    "### Running versus importing"
   ]
  },
  {
   "cell_type": "markdown",
   "metadata": {},
   "source": [
    "The biggest difference between running a file and importing it is that we don’t expect anything to happen when we import a file, whereas when running a script, we expect to see some output printed to the console. This can be achieved by using the `__name__` variable."
   ]
  },
  {
   "cell_type": "markdown",
   "metadata": {},
   "source": [
    "### Handling multiple files"
   ]
  },
  {
   "cell_type": "markdown",
   "metadata": {},
   "source": [
    "We want our program to process each file separately, so we need a loop that executes once for each filename."
   ]
  },
  {
   "cell_type": "markdown",
   "metadata": {},
   "source": [
    "### Handling command-line flags"
   ]
  },
  {
   "cell_type": "markdown",
   "metadata": {},
   "source": [
    "The next step is to teach our program to pay attention to the `--min`, `--mean`, and `--max` flags."
   ]
  },
  {
   "cell_type": "markdown",
   "metadata": {},
   "source": [
    "### Handling standard input"
   ]
  },
  {
   "cell_type": "markdown",
   "metadata": {},
   "source": [
    "The next thing our program has to do is read data from standard input if no filenames are given so that we can put it in a pipeline, redirect input to it, and so on."
   ]
  },
  {
   "cell_type": "markdown",
   "metadata": {},
   "source": [
    "#### Check your knowledge: arithmetic on the command line"
   ]
  },
  {
   "cell_type": "markdown",
   "metadata": {},
   "source": [
    "Write a command-line program that does addition and subtraction:\n",
    "```\n",
    "$ python arith.py add 1 2\n",
    "3\n",
    "$ python arith.py subtract 3 4\n",
    "-1\n",
    "```"
   ]
  },
  {
   "cell_type": "markdown",
   "metadata": {},
   "source": [
    "##### Solution"
   ]
  },
  {
   "cell_type": "code",
   "execution_count": null,
   "metadata": {},
   "outputs": [],
   "source": [
    "import sys\n",
    "\n",
    "def main():\n",
    "    assert len(sys.argv) == 4, 'Need exactly 3 arguments'\n",
    "\n",
    "    operator = sys.argv[1]\n",
    "    assert operator in ['add', 'subtract', 'multiply', 'divide'], \\\n",
    "        'Operator is not one of add, subtract, multiply, or divide: bailing out'\n",
    "    try:\n",
    "        operand1, operand2 = float(sys.argv[2]), float(sys.argv[3])\n",
    "    except ValueError:\n",
    "        print('cannot convert input to a number: bailing out')\n",
    "        return\n",
    "\n",
    "    do_arithmetic(operand1, operator, operand2)\n",
    "\n",
    "def do_arithmetic(operand1, operator, operand2):\n",
    "\n",
    "    if operator == 'add':\n",
    "        value = operand1 + operand2\n",
    "    elif operator == 'subtract':\n",
    "        value = operand1 - operand2\n",
    "    elif operator == 'multiply':\n",
    "        value = operand1 * operand2\n",
    "    elif operator == 'divide':\n",
    "        value = operand1 / operand2\n",
    "    print(value)\n",
    "\n",
    "main()"
   ]
  },
  {
   "cell_type": "markdown",
   "metadata": {},
   "source": [
    "#### Check your knowledge: finding particular files"
   ]
  },
  {
   "cell_type": "markdown",
   "metadata": {},
   "source": [
    "Using the `glob` module introduced earlier, write a simple version of `ls` that shows files in the current directory with a particular suffix.\n",
    "```\n",
    "$ python my_ls.py py\n",
    "left.py\n",
    "right.py\n",
    "zero.py\n",
    "```"
   ]
  },
  {
   "cell_type": "markdown",
   "metadata": {},
   "source": [
    "##### Solution"
   ]
  },
  {
   "cell_type": "code",
   "execution_count": null,
   "metadata": {},
   "outputs": [],
   "source": [
    "import sys\n",
    "import glob\n",
    "\n",
    "def main():\n",
    "    \"\"\"prints names of all files with sys.argv as suffix\"\"\"\n",
    "    assert len(sys.argv) >= 2, 'Argument list cannot be empty'\n",
    "    suffix = sys.argv[1] # NB: behaviour is not as you'd expect if sys.argv[1] is *\n",
    "    glob_input = '*.' + suffix # construct the input\n",
    "    glob_output = sorted(glob.glob(glob_input)) # call the glob function\n",
    "    for item in glob_output: # print the output\n",
    "        print(item)\n",
    "    return\n",
    "\n",
    "main()"
   ]
  },
  {
   "cell_type": "markdown",
   "metadata": {},
   "source": [
    "## Key Points"
   ]
  },
  {
   "cell_type": "markdown",
   "metadata": {},
   "source": [
    "- The `sys` library connects a Python program to the system it is running on.\n",
    "- The list `sys.argv` contains the command-line arguments that a program was run with.\n",
    "- Avoid silent failures.\n",
    "- The pseudo-file `sys.stdin` connects to a program’s standard input.\n"
   ]
  }
 ],
 "metadata": {
  "kernelspec": {
   "display_name": "Python 3.6.9 ('env_3.6')",
   "language": "python",
   "name": "python3"
  },
  "language_info": {
   "codemirror_mode": {
    "name": "ipython",
    "version": 3
   },
   "file_extension": ".py",
   "mimetype": "text/x-python",
   "name": "python",
   "nbconvert_exporter": "python",
   "pygments_lexer": "ipython3",
   "version": "3.6.9"
  },
  "orig_nbformat": 4,
  "vscode": {
   "interpreter": {
    "hash": "f9d0384487a6e4c37eb034a69dc9cd7e1caafef0c09872c91429bb583ff374cd"
   }
  }
 },
 "nbformat": 4,
 "nbformat_minor": 2
}
