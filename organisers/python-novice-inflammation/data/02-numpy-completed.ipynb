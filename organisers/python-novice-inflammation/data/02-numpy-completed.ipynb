{
 "cells": [
  {
   "cell_type": "markdown",
   "metadata": {},
   "source": [
    "# Analyzing Patient Data"
   ]
  },
  {
   "cell_type": "markdown",
   "metadata": {},
   "source": [
    "## Overview"
   ]
  },
  {
   "cell_type": "markdown",
   "metadata": {},
   "source": [
    "### Questions"
   ]
  },
  {
   "cell_type": "markdown",
   "metadata": {},
   "source": [
    "- How can I process tabular data files in Python?"
   ]
  },
  {
   "cell_type": "markdown",
   "metadata": {},
   "source": [
    "### Objectives"
   ]
  },
  {
   "cell_type": "markdown",
   "metadata": {},
   "source": [
    "- Explain what a library is and what libraries are used for.\n",
    "- Import a Python library and use the functions it contains.\n",
    "- Read tabular data from a file into a program.\n",
    "- Select individual values and subsections from data.\n",
    "- Perform operations on arrays of data."
   ]
  },
  {
   "cell_type": "markdown",
   "metadata": {},
   "source": [
    "## Content"
   ]
  },
  {
   "cell_type": "markdown",
   "metadata": {},
   "source": [
    "### Loading data into Python"
   ]
  },
  {
   "cell_type": "code",
   "execution_count": 1,
   "metadata": {},
   "outputs": [],
   "source": [
    "import numpy"
   ]
  },
  {
   "cell_type": "code",
   "execution_count": 5,
   "metadata": {},
   "outputs": [],
   "source": [
    "data = numpy.loadtxt(fname = 'inflammation-01.csv', delimiter = ',')"
   ]
  },
  {
   "cell_type": "code",
   "execution_count": 9,
   "metadata": {},
   "outputs": [
    {
     "name": "stdout",
     "output_type": "stream",
     "text": [
      "[[0. 0. 1. ... 3. 0. 0.]\n",
      " [0. 1. 2. ... 1. 0. 1.]\n",
      " [0. 1. 1. ... 2. 1. 1.]\n",
      " ...\n",
      " [0. 1. 1. ... 1. 1. 1.]\n",
      " [0. 0. 0. ... 0. 2. 0.]\n",
      " [0. 0. 1. ... 1. 1. 0.]]\n"
     ]
    }
   ],
   "source": [
    "print(data)"
   ]
  },
  {
   "cell_type": "code",
   "execution_count": 7,
   "metadata": {},
   "outputs": [
    {
     "name": "stdout",
     "output_type": "stream",
     "text": [
      "<class 'numpy.ndarray'>\n"
     ]
    }
   ],
   "source": [
    "print(type(data))"
   ]
  },
  {
   "cell_type": "code",
   "execution_count": 10,
   "metadata": {},
   "outputs": [
    {
     "name": "stdout",
     "output_type": "stream",
     "text": [
      "float64\n",
      "(60, 40)\n"
     ]
    }
   ],
   "source": [
    "print(data.dtype)\n",
    "print(data.shape)"
   ]
  },
  {
   "cell_type": "markdown",
   "metadata": {},
   "source": [
    "![\"data\" is a 3 by 3 numpy array containing row 0: ['A', 'B', 'C'], row 1: ['D', 'E', 'F'], and\n",
    "row 2: ['G', 'H', 'I']. Starting in the upper left hand corner, data[0, 0] = 'A', data[0, 1] = 'B',\n",
    "data[0, 2] = 'C', data[1, 0] = 'D', data[1, 1] = 'E', data[1, 2] = 'F', data[2, 0] = 'G',\n",
    "data[2, 1] = 'H', and data[2, 2] = 'I',\n",
    "in the bottom right hand corner.](../fig/python-zero-index.svg)\n",
    "\n",
    "If we want to get a single number from the array, we must provide an index in square brackets after the variable name, just as we do in maths when referring to an element of a matrix. Our inflammation data has two dimensions, so we will need to use two indices to refer to one specific value. In Python, indexing starts at `0`, and we access rows before columns. "
   ]
  },
  {
   "cell_type": "code",
   "execution_count": 12,
   "metadata": {},
   "outputs": [
    {
     "name": "stdout",
     "output_type": "stream",
     "text": [
      "1.0\n"
     ]
    }
   ],
   "source": [
    "print(data[1,1])"
   ]
  },
  {
   "cell_type": "markdown",
   "metadata": {},
   "source": [
    "### Slicing data"
   ]
  },
  {
   "cell_type": "code",
   "execution_count": 14,
   "metadata": {},
   "outputs": [
    {
     "name": "stdout",
     "output_type": "stream",
     "text": [
      "[[0. 0. 1. 3. 1. 2. 4. 7. 8. 3.]\n",
      " [0. 1. 2. 1. 2. 1. 3. 2. 2. 6.]\n",
      " [0. 1. 1. 3. 3. 2. 6. 2. 5. 9.]\n",
      " [0. 0. 2. 0. 4. 2. 2. 1. 6. 7.]]\n",
      "[0. 1. 1. 3. 3. 1. 3. 5. 2. 4.]\n"
     ]
    }
   ],
   "source": [
    "print(data[0:4, 0:10])\n",
    "print(data[4, 0:10])"
   ]
  },
  {
   "cell_type": "code",
   "execution_count": 17,
   "metadata": {},
   "outputs": [
    {
     "name": "stdout",
     "output_type": "stream",
     "text": [
      "[[0. 0. 1. 2. 2. 4. 2. 1. 6. 4.]\n",
      " [0. 0. 2. 2. 4. 2. 2. 5. 5. 8.]\n",
      " [0. 0. 1. 2. 3. 1. 2. 3. 5. 3.]\n",
      " [0. 0. 0. 3. 1. 5. 6. 5. 5. 8.]\n",
      " [0. 1. 1. 2. 1. 3. 5. 3. 5. 8.]\n",
      " [0. 1. 0. 0. 4. 3. 3. 5. 5. 4.]\n",
      " [0. 1. 0. 0. 3. 4. 2. 7. 8. 5.]\n",
      " [0. 0. 2. 1. 4. 3. 6. 4. 6. 7.]\n",
      " [0. 0. 0. 0. 1. 3. 1. 6. 6. 5.]\n",
      " [0. 1. 2. 1. 1. 1. 4. 1. 5. 2.]\n",
      " [0. 1. 1. 0. 1. 2. 4. 3. 6. 4.]\n",
      " [0. 0. 0. 0. 2. 3. 6. 5. 7. 4.]\n",
      " [0. 0. 0. 1. 2. 1. 4. 3. 6. 7.]\n",
      " [0. 0. 2. 1. 2. 5. 4. 2. 7. 8.]\n",
      " [0. 1. 2. 0. 1. 4. 3. 2. 2. 7.]\n",
      " [0. 1. 1. 3. 1. 4. 4. 1. 8. 2.]\n",
      " [0. 0. 2. 3. 2. 3. 2. 6. 3. 8.]\n",
      " [0. 0. 0. 3. 4. 5. 1. 7. 7. 8.]\n",
      " [0. 1. 1. 1. 1. 3. 3. 2. 6. 3.]\n",
      " [0. 1. 1. 1. 2. 3. 5. 3. 6. 3.]\n",
      " [0. 0. 2. 1. 3. 3. 2. 7. 4. 4.]\n",
      " [0. 0. 1. 2. 4. 2. 2. 3. 5. 7.]\n",
      " [0. 0. 1. 1. 1. 5. 1. 5. 2. 2.]\n",
      " [0. 0. 2. 2. 3. 4. 6. 3. 7. 6.]\n",
      " [0. 0. 0. 1. 4. 4. 6. 3. 8. 6.]\n",
      " [0. 1. 1. 0. 3. 2. 4. 6. 8. 6.]\n",
      " [0. 0. 2. 3. 3. 4. 5. 3. 6. 7.]\n",
      " [0. 1. 2. 2. 2. 3. 6. 6. 6. 7.]\n",
      " [0. 0. 2. 1. 3. 5. 6. 7. 5. 8.]\n",
      " [0. 0. 1. 2. 4. 1. 5. 5. 2. 3.]\n",
      " [0. 0. 0. 3. 1. 3. 6. 4. 3. 4.]\n",
      " [0. 1. 2. 2. 2. 5. 5. 1. 4. 6.]\n",
      " [0. 1. 1. 2. 3. 1. 5. 1. 2. 2.]\n",
      " [0. 1. 0. 3. 2. 4. 1. 1. 5. 9.]\n",
      " [0. 1. 1. 3. 1. 1. 5. 5. 3. 7.]\n",
      " [0. 0. 0. 2. 2. 1. 3. 4. 5. 5.]\n",
      " [0. 0. 1. 3. 3. 1. 2. 1. 8. 9.]\n",
      " [0. 1. 1. 3. 4. 5. 2. 1. 3. 7.]\n",
      " [0. 0. 1. 3. 1. 4. 3. 6. 7. 8.]\n",
      " [0. 1. 1. 3. 3. 4. 4. 6. 3. 4.]\n",
      " [0. 1. 2. 2. 4. 3. 1. 4. 8. 9.]\n",
      " [0. 0. 2. 3. 4. 5. 4. 6. 2. 9.]\n",
      " [0. 1. 1. 3. 1. 4. 6. 2. 8. 2.]\n",
      " [0. 0. 1. 3. 2. 5. 1. 2. 7. 6.]\n",
      " [0. 0. 1. 2. 3. 4. 5. 7. 5. 4.]\n",
      " [0. 1. 2. 1. 1. 3. 5. 3. 6. 3.]\n",
      " [0. 1. 2. 2. 3. 5. 2. 4. 5. 6.]\n",
      " [0. 0. 0. 2. 4. 4. 5. 3. 3. 3.]\n",
      " [0. 0. 2. 1. 1. 4. 4. 7. 2. 9.]\n",
      " [0. 1. 2. 1. 1. 4. 5. 4. 4. 5.]\n",
      " [0. 0. 1. 3. 2. 3. 6. 4. 5. 7.]\n",
      " [0. 1. 1. 2. 2. 5. 1. 7. 4. 2.]\n",
      " [0. 1. 1. 1. 4. 1. 6. 4. 6. 3.]\n",
      " [0. 0. 0. 1. 4. 5. 6. 3. 8. 7.]\n",
      " [0. 0. 1. 0. 3. 2. 5. 4. 8. 2.]]\n"
     ]
    }
   ],
   "source": [
    "print(data[5:, :10])"
   ]
  },
  {
   "cell_type": "markdown",
   "metadata": {},
   "source": [
    "#### Check your understanding"
   ]
  },
  {
   "cell_type": "markdown",
   "metadata": {},
   "source": [
    "We can take slices of character strings as well."
   ]
  },
  {
   "cell_type": "code",
   "execution_count": 18,
   "metadata": {},
   "outputs": [
    {
     "name": "stdout",
     "output_type": "stream",
     "text": [
      "first three characters: oxy\n",
      "last three characters: gen\n"
     ]
    }
   ],
   "source": [
    "element = 'oxygen'\n",
    "print('first three characters:', element[0:3])\n",
    "print('last three characters:', element[3:6])"
   ]
  },
  {
   "cell_type": "markdown",
   "metadata": {},
   "source": [
    "What is the value of `element[:4]`? What about `element[4:]`? Or `element[:]`?"
   ]
  },
  {
   "cell_type": "markdown",
   "metadata": {},
   "source": [
    "##### Solution"
   ]
  },
  {
   "cell_type": "code",
   "execution_count": 19,
   "metadata": {},
   "outputs": [
    {
     "name": "stdout",
     "output_type": "stream",
     "text": [
      "oxyg\n",
      "en\n",
      "oxygen\n"
     ]
    }
   ],
   "source": [
    "print(element[:4])\n",
    "print(element[4:])\n",
    "print(element[:])"
   ]
  },
  {
   "cell_type": "markdown",
   "metadata": {},
   "source": [
    "What is the value of `element[-1]`? What about `element[-2]`? Or `element[1:-1]`?"
   ]
  },
  {
   "cell_type": "markdown",
   "metadata": {},
   "source": [
    "##### Solution"
   ]
  },
  {
   "cell_type": "code",
   "execution_count": 20,
   "metadata": {},
   "outputs": [
    {
     "name": "stdout",
     "output_type": "stream",
     "text": [
      "n\n",
      "e\n",
      "xyge\n"
     ]
    }
   ],
   "source": [
    "print(element[-1])\n",
    "print(element[-2])\n",
    "print(element[1:-1])"
   ]
  },
  {
   "cell_type": "markdown",
   "metadata": {},
   "source": [
    "### Analyzing data"
   ]
  },
  {
   "cell_type": "code",
   "execution_count": 21,
   "metadata": {},
   "outputs": [
    {
     "name": "stdout",
     "output_type": "stream",
     "text": [
      "6.14875\n"
     ]
    }
   ],
   "source": [
    "print(numpy.mean(data))"
   ]
  },
  {
   "cell_type": "code",
   "execution_count": 22,
   "metadata": {},
   "outputs": [
    {
     "name": "stdout",
     "output_type": "stream",
     "text": [
      "max: 20.0\n",
      "min: 0.0\n",
      "std: 4.613833197118566\n"
     ]
    }
   ],
   "source": [
    "maxval, minval, stdval = numpy.max(data), numpy.min(data), numpy.std(data)\n",
    "\n",
    "print(\"max:\", maxval)\n",
    "print(\"min:\", minval)\n",
    "print(\"std:\", stdval)"
   ]
  },
  {
   "cell_type": "code",
   "execution_count": 23,
   "metadata": {},
   "outputs": [
    {
     "name": "stdout",
     "output_type": "stream",
     "text": [
      "max for patient 0 is: 18.0\n"
     ]
    }
   ],
   "source": [
    "patient_0 = data[0, :]\n",
    "print(\"max for patient 0 is:\", numpy.max(patient_0))"
   ]
  },
  {
   "cell_type": "code",
   "execution_count": 25,
   "metadata": {},
   "outputs": [
    {
     "data": {
      "text/plain": [
       "2"
      ]
     },
     "execution_count": 25,
     "metadata": {},
     "output_type": "execute_result"
    }
   ],
   "source": [
    "numpy.max([1, 2])"
   ]
  },
  {
   "cell_type": "code",
   "execution_count": 26,
   "metadata": {},
   "outputs": [
    {
     "name": "stdout",
     "output_type": "stream",
     "text": [
      "max for patient 2 is: 19.0\n"
     ]
    }
   ],
   "source": [
    "print(\"max for patient 2 is:\", numpy.max(data[2, :]))"
   ]
  },
  {
   "cell_type": "code",
   "execution_count": 28,
   "metadata": {},
   "outputs": [
    {
     "name": "stdout",
     "output_type": "stream",
     "text": [
      "(60, 40)\n",
      "[ 0.          0.45        1.11666667  1.75        2.43333333  3.15\n",
      "  3.8         3.88333333  5.23333333  5.51666667  5.95        5.9\n",
      "  8.35        7.73333333  8.36666667  9.5         9.58333333 10.63333333\n",
      " 11.56666667 12.35       13.25       11.96666667 11.03333333 10.16666667\n",
      " 10.          8.66666667  9.15        7.25        7.33333333  6.58333333\n",
      "  6.06666667  5.95        5.11666667  3.6         3.3         3.56666667\n",
      "  2.48333333  1.5         1.13333333  0.56666667]\n"
     ]
    }
   ],
   "source": [
    "print(data.shape)\n",
    "print(numpy.mean(data, axis=0))"
   ]
  },
  {
   "cell_type": "code",
   "execution_count": 29,
   "metadata": {},
   "outputs": [
    {
     "name": "stdout",
     "output_type": "stream",
     "text": [
      "[18. 18. 19. 17. 17. 18. 17. 20. 17. 18. 18. 18. 17. 16. 17. 18. 19. 19.\n",
      " 17. 19. 19. 16. 17. 15. 17. 17. 18. 17. 20. 17. 16. 19. 15. 15. 19. 17.\n",
      " 16. 17. 19. 16. 18. 19. 16. 19. 18. 16. 19. 15. 16. 18. 14. 20. 17. 15.\n",
      " 17. 16. 17. 19. 18. 18.]\n"
     ]
    }
   ],
   "source": [
    "print(numpy.max(data, axis=1))"
   ]
  },
  {
   "cell_type": "markdown",
   "metadata": {},
   "source": [
    "### Exercise: Stacking Arrays\n"
   ]
  },
  {
   "cell_type": "code",
   "execution_count": null,
   "metadata": {},
   "outputs": [],
   "source": [
    "# Arrays can be concatenated and stacked on top of one another, \n",
    "# using NumPy’s vstack and hstack functions for vertical and horizontal stacking, respectively.\n",
    "\n",
    "# Write some additional code that slices the first and last columns of A, \n",
    "# and stacks them into a 3x2 array. Make sure to print the results to verify your solution."
   ]
  },
  {
   "cell_type": "code",
   "execution_count": 37,
   "metadata": {},
   "outputs": [
    {
     "name": "stdout",
     "output_type": "stream",
     "text": [
      "A = \n",
      "[[1 2 3]\n",
      " [4 5 6]\n",
      " [7 8 9]]\n",
      "B = \n",
      "[[1 2 3 1 2 3]\n",
      " [4 5 6 4 5 6]\n",
      " [7 8 9 7 8 9]]\n",
      "C = \n",
      "[[1 2 3]\n",
      " [4 5 6]\n",
      " [7 8 9]\n",
      " [1 2 3]\n",
      " [4 5 6]\n",
      " [7 8 9]]\n",
      "[[1]\n",
      " [4]\n",
      " [7]]\n",
      "[[1 2]\n",
      " [4 5]\n",
      " [7 8]]\n",
      "D = \n",
      "[1 4 7 3 6 9]\n"
     ]
    }
   ],
   "source": [
    "A = numpy.array([[1,2,3], [4,5,6], [7, 8, 9]])\n",
    "print('A = ')\n",
    "print(A)\n",
    "\n",
    "B = numpy.hstack([A, A])\n",
    "print('B = ')\n",
    "print(B)\n",
    "\n",
    "C = numpy.vstack([A, A])\n",
    "print('C = ')\n",
    "print(C)\n",
    "\n",
    "# D = numpy.array([[1,3], [4,6], [7,9]])\n",
    "print(A[:, :1])\n",
    "print(A[:, :-1])\n",
    "D = numpy.hstack((A[:, :1], A[:, 2]))\n",
    "print('D = ')\n",
    "print(D)"
   ]
  },
  {
   "cell_type": "code",
   "execution_count": 39,
   "metadata": {},
   "outputs": [
    {
     "data": {
      "text/plain": [
       "'o'"
      ]
     },
     "execution_count": 39,
     "metadata": {},
     "output_type": "execute_result"
    }
   ],
   "source": [
    "o = 'oxygen'\n",
    "o[-0]"
   ]
  },
  {
   "cell_type": "markdown",
   "metadata": {},
   "source": [
    "## Key Points"
   ]
  },
  {
   "cell_type": "markdown",
   "metadata": {},
   "source": [
    "- Import a library into a program using `import libraryname`.\n",
    "- Use the `numpy` library to work with arrays in Python.\n",
    "- The expression `array.shape` gives the shape of an array.\n",
    "- Use `array[x, y]` to select a single element from a 2D array.\n",
    "- Array indices start at 0, not 1.\n",
    "- Use `low:high` to specify a `slice` that includes the indices from `low` to `high-1`.\n",
    "- Use `numpy.mean(array)`, `numpy.max(array)`, and `numpy.min(array)` to calculate simple statistics.\n",
    "- Use `numpy.mean(array, axis=0)` or `numpy.mean(array, axis=1)` to calculate statistics across the specified axis.\n"
   ]
  }
 ],
 "metadata": {
  "kernelspec": {
   "display_name": "Python 3",
   "language": "python",
   "name": "python3"
  },
  "language_info": {
   "codemirror_mode": {
    "name": "ipython",
    "version": 3
   },
   "file_extension": ".py",
   "mimetype": "text/x-python",
   "name": "python",
   "nbconvert_exporter": "python",
   "pygments_lexer": "ipython3",
   "version": "3.6.9"
  },
  "vscode": {
   "interpreter": {
    "hash": "f9d0384487a6e4c37eb034a69dc9cd7e1caafef0c09872c91429bb583ff374cd"
   }
  }
 },
 "nbformat": 4,
 "nbformat_minor": 4
}
