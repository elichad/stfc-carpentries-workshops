{
 "cells": [
  {
   "cell_type": "markdown",
   "metadata": {},
   "source": [
    "# Command-Line Programs"
   ]
  },
  {
   "cell_type": "markdown",
   "metadata": {},
   "source": [
    "## Overview"
   ]
  },
  {
   "cell_type": "markdown",
   "metadata": {},
   "source": [
    "### Questions"
   ]
  },
  {
   "cell_type": "markdown",
   "metadata": {},
   "source": [
    "- How can I write Python programs that will work like Unix command-line tools?"
   ]
  },
  {
   "cell_type": "markdown",
   "metadata": {},
   "source": [
    "### Objectives"
   ]
  },
  {
   "cell_type": "markdown",
   "metadata": {},
   "source": [
    "- Use the values of command-line arguments in a program.\n",
    "- Handle flags and files separately in a command-line program.\n",
    "- Read data from standard input in a program so that it can be used in a pipeline."
   ]
  },
  {
   "cell_type": "markdown",
   "metadata": {},
   "source": [
    "## Content"
   ]
  },
  {
   "cell_type": "markdown",
   "metadata": {},
   "source": [
    "In this lesson we are switching from typing commands in a Python interpreter to typing commands in a shell terminal window (such as bash). When you see a `$` in front of a command that tells you to run that command in the shell rather than the Python interpreter."
   ]
  },
  {
   "cell_type": "markdown",
   "metadata": {},
   "source": [
    "### Command-line arguments"
   ]
  },
  {
   "cell_type": "markdown",
   "metadata": {},
   "source": [
    "### Running versus importing"
   ]
  },
  {
   "cell_type": "markdown",
   "metadata": {},
   "source": [
    "### Handling multiple files"
   ]
  },
  {
   "cell_type": "markdown",
   "metadata": {},
   "source": [
    "### Handling command-line flags"
   ]
  },
  {
   "cell_type": "markdown",
   "metadata": {},
   "source": [
    "### Handling standard input"
   ]
  },
  {
   "cell_type": "markdown",
   "metadata": {},
   "source": [
    "#### Exercise: arithmetic on the command line"
   ]
  },
  {
   "cell_type": "markdown",
   "metadata": {},
   "source": [
    "Write a command-line program that does addition and subtraction:\n",
    "```\n",
    "$ python arith.py add 1 2\n",
    "3\n",
    "$ python arith.py subtract 3 4\n",
    "-1\n",
    "```"
   ]
  },
  {
   "cell_type": "markdown",
   "metadata": {},
   "source": [
    "##### Solution"
   ]
  },
  {
   "cell_type": "code",
   "execution_count": null,
   "metadata": {
    "jupyter": {
     "source_hidden": true
    }
   },
   "outputs": [],
   "source": [
    "import sys\n",
    "\n",
    "def main():\n",
    "    assert len(sys.argv) == 4, 'Need exactly 3 arguments'\n",
    "\n",
    "    operator = sys.argv[1]\n",
    "    assert operator in ['add', 'subtract', 'multiply', 'divide'], \\\n",
    "        'Operator is not one of add, subtract, multiply, or divide: bailing out'\n",
    "    try:\n",
    "        operand1, operand2 = float(sys.argv[2]), float(sys.argv[3])\n",
    "    except ValueError:\n",
    "        print('cannot convert input to a number: bailing out')\n",
    "        return\n",
    "\n",
    "    do_arithmetic(operand1, operator, operand2)\n",
    "\n",
    "def do_arithmetic(operand1, operator, operand2):\n",
    "\n",
    "    if operator == 'add':\n",
    "        value = operand1 + operand2\n",
    "    elif operator == 'subtract':\n",
    "        value = operand1 - operand2\n",
    "    elif operator == 'multiply':\n",
    "        value = operand1 * operand2\n",
    "    elif operator == 'divide':\n",
    "        value = operand1 / operand2\n",
    "    print(value)\n",
    "\n",
    "main()"
   ]
  },
  {
   "cell_type": "markdown",
   "metadata": {},
   "source": [
    "#### Exercise: finding particular files"
   ]
  },
  {
   "cell_type": "markdown",
   "metadata": {},
   "source": [
    "Using the `glob` module introduced earlier, write a simple version of `ls` that shows files in the current directory with a particular suffix.\n",
    "```\n",
    "$ python my_ls.py py\n",
    "left.py\n",
    "right.py\n",
    "zero.py\n",
    "```"
   ]
  },
  {
   "cell_type": "markdown",
   "metadata": {},
   "source": [
    "##### Solution"
   ]
  },
  {
   "cell_type": "code",
   "execution_count": null,
   "metadata": {
    "jupyter": {
     "source_hidden": true
    }
   },
   "outputs": [],
   "source": [
    "import sys\n",
    "import glob\n",
    "\n",
    "def main():\n",
    "    \"\"\"prints names of all files with sys.argv as suffix\"\"\"\n",
    "    assert len(sys.argv) >= 2, 'Argument list cannot be empty'\n",
    "    suffix = sys.argv[1] # NB: behaviour is not as you'd expect if sys.argv[1] is *\n",
    "    glob_input = '*.' + suffix # construct the input\n",
    "    glob_output = sorted(glob.glob(glob_input)) # call the glob function\n",
    "    for item in glob_output: # print the output\n",
    "        print(item)\n",
    "    return\n",
    "\n",
    "main()"
   ]
  },
  {
   "cell_type": "markdown",
   "metadata": {},
   "source": [
    "## Key Points"
   ]
  },
  {
   "cell_type": "markdown",
   "metadata": {},
   "source": [
    "- The `sys` library connects a Python program to the system it is running on.\n",
    "- The list `sys.argv` contains the command-line arguments that a program was run with.\n",
    "- Avoid silent failures.\n",
    "- The pseudo-file `sys.stdin` connects to a program’s standard input.\n"
   ]
  }
 ],
 "metadata": {
  "kernelspec": {
   "display_name": "Python 3",
   "language": "python",
   "name": "python3"
  },
  "language_info": {
   "codemirror_mode": {
    "name": "ipython",
    "version": 3
   },
   "file_extension": ".py",
   "mimetype": "text/x-python",
   "name": "python",
   "nbconvert_exporter": "python",
   "pygments_lexer": "ipython3",
   "version": "3.6.9"
  },
  "vscode": {
   "interpreter": {
    "hash": "f9d0384487a6e4c37eb034a69dc9cd7e1caafef0c09872c91429bb583ff374cd"
   }
  }
 },
 "nbformat": 4,
 "nbformat_minor": 4
}
